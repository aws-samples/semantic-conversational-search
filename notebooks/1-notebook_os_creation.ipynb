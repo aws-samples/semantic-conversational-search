{
 "cells": [
  {
   "cell_type": "code",
   "execution_count": null,
   "metadata": {},
   "outputs": [],
   "source": [
    "#Copyright Amazon.com, Inc. or its affiliates. All Rights Reserved.\n",
    "#SPDX-License-Identifier: MIT-0"
   ]
  },
  {
   "cell_type": "markdown",
   "metadata": {},
   "source": [
    "# Open Search Serverless Collection creation\n",
    "\n",
    "This notebook demonstrates how to create an OpenSearch Serverless Collection using the AWS Python SDK (Boto3). OpenSearch Serverless is a fully managed service that makes it easy to launch and run OpenSearch clusters in the cloud. It simplifies the deployment and management of OpenSearch by automatically provisioning, configuring, and scaling the resources required to run OpenSearch"
   ]
  },
  {
   "cell_type": "markdown",
   "metadata": {},
   "source": [
    "### Install required libraries\n",
    "The following cell installs required python libraries specified in the 'requirements.txt' file."
   ]
  },
  {
   "cell_type": "code",
   "execution_count": null,
   "metadata": {},
   "outputs": [],
   "source": [
    "#This cell installs the required libraries specified in the 'requirements.txt' file\n",
    "!pip install -r requirements.txt --quiet"
   ]
  },
  {
   "cell_type": "markdown",
   "metadata": {},
   "source": [
    "### Required permissions\n",
    "\n",
    "Your role or user will need a certain number of policies attached to execute the below code including AmazonBedrockFullAccess, AmazonOpenSearchServiceFullAccess, and the following policy for OpenSearchServerless. This policy grants full access to the OpenSearch Serverless service, allowing you to create, manage, and delete OpenSearch Serverless resources.\n",
    "\n",
    "    {\n",
    "        \"Version\": \"2012-10-17\",\n",
    "        \"Statement\": [\n",
    "            {\n",
    "                \"Effect\": \"Allow\",\n",
    "                \"Action\": \"aoss:*\",\n",
    "                \"Resource\": \"*\"\n",
    "            }\n",
    "        ]\n",
    "    }"
   ]
  },
  {
   "cell_type": "markdown",
   "metadata": {},
   "source": [
    "### Open Search Collection Creation\n",
    "The next code cell imports the necessary Python libraries and defines a function `create_opensearch_collection` that creates an OpenSearch Serverless Collection. This function takes two arguments: `collection_name` (the desired name for the collection) and `open_search_access_role` (the ARN of the IAM role that should have access to the collection). It performs the following steps:\n",
    "\n",
    "1. Initializes the Boto3 client for OpenSearch Serverless.\n",
    "2. Defines the network security policy and encryption security policy for the collection.\n",
    "3. Creates the network security policy and encryption security policy using the OpenSearch Serverless client.\n",
    "4. If an `open_search_access_role` is provided, it creates a data access policy that grants the specified role permissions to perform various operations on the collection and its indices.\n",
    "5. Creates the OpenSearch Serverless Collection with the specified name and type `VECTORSEARCH`.\n",
    "6. Returns the names of the created security policies and the collection response."
   ]
  },
  {
   "cell_type": "code",
   "execution_count": null,
   "metadata": {},
   "outputs": [],
   "source": [
    "import boto3\n",
    "import json\n",
    "import pprint as pp\n",
    "\n",
    "\n",
    "def create_opensearch_collection(collection_name, open_search_access_role):\n",
    "    # Initialize boto3 clients\n",
    "    opensearch_client = boto3.client('opensearchserverless')\n",
    "\n",
    "    # Define network security policy\n",
    "    network_security_policy = json.dumps(\n",
    "        [\n",
    "            {\n",
    "                \"Rules\": [\n",
    "                {\n",
    "                    \"Resource\": [\n",
    "                    f\"collection/{collection_name}\"\n",
    "                    ],\n",
    "                    \"ResourceType\": \"dashboard\"\n",
    "                },\n",
    "                {\n",
    "                    \"Resource\": [\n",
    "                    f\"collection/{collection_name}\"\n",
    "                    ],\n",
    "                    \"ResourceType\": \"collection\"\n",
    "                }\n",
    "                ],\n",
    "                \"AllowFromPublic\": True\n",
    "            }\n",
    "            ]\n",
    "    )\n",
    "\n",
    "    \n",
    "    encryption_security_policy = json.dumps(\n",
    "        {\n",
    "            \"Rules\": [\n",
    "                {\n",
    "                    \"Resource\": [\n",
    "                        f\"collection/{collection_name}\"\n",
    "                    ],\n",
    "                    \"ResourceType\": \"collection\",\n",
    "                }\n",
    "            ],\n",
    "            \"AWSOwnedKey\": True\n",
    "        },\n",
    "        indent=2\n",
    "    )\n",
    "\n",
    "    # Create network security policy\n",
    "    net_policy_response = opensearch_client.create_security_policy(\n",
    "        name=f\"{collection_name}-network-policy\",\n",
    "        policy=network_security_policy,\n",
    "        type='network'\n",
    "    )\n",
    "    network_policy_name = net_policy_response[\"securityPolicyDetail\"][\"name\"]\n",
    "\n",
    "\n",
    "    # Create encryption security policy\n",
    "    enc_policy_response = opensearch_client.create_security_policy(\n",
    "        name=f\"{collection_name}-security-policy\",\n",
    "        policy=encryption_security_policy,\n",
    "        type='encryption'\n",
    "    )\n",
    "    encryption_policy_name = enc_policy_response[\"securityPolicyDetail\"][\"name\"]\n",
    "    \n",
    "\n",
    "    # Create data access policy if the access role is provided\n",
    "    data_access_policy_name = \"\"\n",
    "\n",
    "    if open_search_access_role:\n",
    "        data_access_policy = json.dumps(\n",
    "            [\n",
    "                {\n",
    "                    \"Rules\": [\n",
    "                    {\n",
    "                        \"Resource\": [\n",
    "                        f\"collection/{collection_name}\"\n",
    "                        ],\n",
    "                        \"Permission\": [\n",
    "                        \"aoss:CreateCollectionItems\",\n",
    "                        \"aoss:DeleteCollectionItems\",\n",
    "                        \"aoss:UpdateCollectionItems\",\n",
    "                        \"aoss:DescribeCollectionItems\"\n",
    "                        ],\n",
    "                        \"ResourceType\": \"collection\"\n",
    "                    },\n",
    "                    {\n",
    "                        \"Resource\": [\n",
    "                        f\"index/{collection_name}/*\"\n",
    "                        ],\n",
    "                        \"Permission\": [\n",
    "                        \"aoss:CreateIndex\",\n",
    "                        \"aoss:DeleteIndex\",\n",
    "                        \"aoss:UpdateIndex\",\n",
    "                        \"aoss:DescribeIndex\",\n",
    "                        \"aoss:ReadDocument\",\n",
    "                        \"aoss:WriteDocument\"\n",
    "                        ],\n",
    "                        \"ResourceType\": \"index\"\n",
    "                    }\n",
    "                    ],\n",
    "                    \"Principal\": [open_search_access_role],\n",
    "                    \"Description\": \"data-access-rule\"\n",
    "                }\n",
    "            ]\n",
    "        )\n",
    "\n",
    "\n",
    "        data_access_policy_name = f\"{collection_name}-access\"\n",
    "        if len(data_access_policy_name) > 32:\n",
    "            raise ValueError('Policy name exceeds maximum length of 32 characters')\n",
    "\n",
    "        cfn_access_policy_response = opensearch_client.create_access_policy(\n",
    "            name=data_access_policy_name,\n",
    "            description='Policy for data access',\n",
    "            policy=data_access_policy,\n",
    "            type='data',\n",
    "        )\n",
    "\n",
    "\n",
    "    # Create OpenSearch collection\n",
    "    collection_response = opensearch_client.create_collection(\n",
    "        name=collection_name,\n",
    "        type='VECTORSEARCH'\n",
    "    )\n",
    "\n",
    "    return encryption_policy_name, network_policy_name, data_access_policy_name, collection_response\n",
    "\n"
   ]
  },
  {
   "cell_type": "markdown",
   "metadata": {},
   "source": [
    "In this code cell, we first retrieve identity of logged in user/role and then invoke create_opensearch_collection function created in the previous cell to create open search collection.\n",
    "The function returns the names of the created security policies and the collection response, which is printed at the end of the cell."
   ]
  },
  {
   "cell_type": "code",
   "execution_count": null,
   "metadata": {},
   "outputs": [],
   "source": [
    "# Get the caller identity ARN\n",
    "sts_client = boto3.client('sts')\n",
    "caller_identity = sts_client.get_caller_identity()\n",
    "identity_arn = caller_identity['Arn']\n",
    "identity_arn\n",
    "\n",
    "#create the collection\n",
    "collection_name = 'semantic-search'\n",
    "open_search_access_role = identity_arn\n",
    "encryption_policy_name, network_policy_name, data_access_policy_name, collection_response = create_opensearch_collection(collection_name, open_search_access_role)\n",
    "collection_response"
   ]
  },
  {
   "cell_type": "markdown",
   "metadata": {},
   "source": [
    "This code cell extracts the collection ID and region from the collection response obtained in the previous cell. It then constructs the OpenSearch Serverless endpoint URL (`os_host`) using the collection ID, region, and the domain suffix `.aoss.amazonaws.com`. Finally, it prints the `os_host` value, which can be used to connect to the OpenSearch Serverless cluster and perform various operations."
   ]
  },
  {
   "cell_type": "code",
   "execution_count": null,
   "metadata": {},
   "outputs": [],
   "source": [
    "collection_id = collection_response['createCollectionDetail']['id']\n",
    "\n",
    "region = collection_response['createCollectionDetail']['arn'].split(\":\")[3]\n",
    "\n",
    "os_host = \".\".join([collection_id, region, \"aoss.amazonaws.com\"])\n",
    "\n",
    "print(os_host)"
   ]
  },
  {
   "cell_type": "markdown",
   "metadata": {},
   "source": [
    "The next code cell stores the values of `collection_id`, `collection_name`, `encryption_policy_name`, `network_policy_name`, `data_access_policy_name`, and `os_host` in the notebook's store. This allows these values to be accessed and used in the subsequent notebooks in the workshop."
   ]
  },
  {
   "cell_type": "code",
   "execution_count": null,
   "metadata": {},
   "outputs": [],
   "source": [
    "%store collection_id\n",
    "%store collection_name\n",
    "%store encryption_policy_name\n",
    "%store network_policy_name\n",
    "%store data_access_policy_name\n",
    "%store os_host"
   ]
  }
 ],
 "metadata": {
  "kernelspec": {
   "display_name": "local_dev2",
   "language": "python",
   "name": "python3"
  },
  "language_info": {
   "codemirror_mode": {
    "name": "ipython",
    "version": 3
   },
   "file_extension": ".py",
   "mimetype": "text/x-python",
   "name": "python",
   "nbconvert_exporter": "python",
   "pygments_lexer": "ipython3",
   "version": "3.11.5"
  }
 },
 "nbformat": 4,
 "nbformat_minor": 2
}
