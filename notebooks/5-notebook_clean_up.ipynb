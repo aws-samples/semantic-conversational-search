{
  "cells": [
    {
      "cell_type": "code",
      "execution_count": null,
      "metadata": {},
      "outputs": [],
      "source": [
        "#Copyright Amazon.com, Inc. or its affiliates. All Rights Reserved.\n",
        "#SPDX-License-Identifier: MIT-0"
      ]
    },
    {
      "cell_type": "markdown",
      "metadata": {},
      "source": [
        "# [Optional] Clean up\n",
        "Execute the below cells if you want to delete your OpenSearch collection and associated encryption, networking and data access policies\n"
      ]
    },
    {
      "cell_type": "markdown",
      "metadata": {},
      "source": [
        "In the following code cell, previously saved variables (`collection_id`, `encryption_policy_name`, and `network_policy_name`) are being loaded from the notebook's storage using the `%store -r` magic command in Jupyter Notebook. These variables were likely defined and stored in earlier code cells or notebooks, and are now being retrieved for use in subsequent computations or operations within this notebook."
      ]
    },
    {
      "cell_type": "code",
      "execution_count": null,
      "metadata": {},
      "outputs": [],
      "source": [
        "#loading saved variables from previous notebooks\n",
        "%store -r collection_id\n",
        "%store -r encryption_policy_name\n",
        "%store -r network_policy_name\n",
        "%store -r data_access_policy_name\n",
        "%store -r data_access_policy_name_nb\n",
        "%store -r aossAccessPolicyArn\n",
        "%store -r identity_arn"
      ]
    },
    {
      "cell_type": "markdown",
      "metadata": {},
      "source": [
        "In the following code cell, the code is setting up placeholders for certain variables: collection_id, encryption_policy_name, and network_policy_name. These variables are initially left empty as commented lines, allowing the user to manually set their values if needed. "
      ]
    },
    {
      "cell_type": "code",
      "execution_count": null,
      "metadata": {},
      "outputs": [],
      "source": [
        "#You can also manually set them if needed\n",
        "\n",
        "#collection_id = \"\"\n",
        "#encryption_policy_name = \"\"\n",
        "#network_policy_name = \"\""
      ]
    },
    {
      "cell_type": "markdown",
      "metadata": {},
      "source": [
        "In the following code cell, an instance of the AWS boto3 client for OpenSearch Serverless is created. This client allows you to interact with the OpenSearch Serverless service, which is a fully managed search and analytics service provided by AWS. The code then prints a message indicating that it will delete the specified collection and associated policies, such as encryption policy, network policy, and data access policy, based on the provided identifiers and names."
      ]
    },
    {
      "cell_type": "code",
      "execution_count": null,
      "metadata": {},
      "outputs": [],
      "source": [
        "import boto3\n",
        "\n",
        "# Create OpenSearch Serverless client\n",
        "client = boto3.client('opensearchserverless')\n",
        "\n",
        "print(f\"You are about to delete the following collection: {collection_id}\\nand the below policies:\\n{encryption_policy_name},\\n{network_policy_name},\\n{data_access_policy_name}, \\n{ data_access_policy_name_nb},\\n{aossAccessPolicyArn}\")"
      ]
    },
    {
      "cell_type": "markdown",
      "metadata": {},
      "source": [
        "In the following code cell, we will delete opensearch collection"
      ]
    },
    {
      "cell_type": "code",
      "execution_count": null,
      "metadata": {},
      "outputs": [],
      "source": [
        "import random\n",
        "try:\n",
        "    # Delete the collection\n",
        "    response = client.delete_collection(\n",
        "        clientToken='unique-token' + str(random.randint(1000, 9999)),\n",
        "        id=collection_id\n",
        "    )\n",
        "    print(f\"Collection deleted: {response['deleteCollectionDetail']['id']}\")\n",
        "except Exception as e:\n",
        "    print(f\"Error deleting collection: {e}\")"
      ]
    },
    {
      "cell_type": "markdown",
      "metadata": {},
      "source": [
        "In the following code cell, we will delete network policy for the Opensearch collection."
      ]
    },
    {
      "cell_type": "code",
      "execution_count": null,
      "metadata": {},
      "outputs": [],
      "source": [
        "# Delete the network policy\n",
        "try:\n",
        "    response = client.delete_security_policy(\n",
        "        name=network_policy_name,\n",
        "        type='network'\n",
        "    )\n",
        "    print(\"Network policy deleted\")\n",
        "except client.exceptions.ResourceNotFoundException:\n",
        "    print(\"Network policy not found\")\n",
        "except Exception as e:\n",
        "    print(f\"Error deleting network policy: {e}\")"
      ]
    },
    {
      "cell_type": "markdown",
      "metadata": {},
      "source": [
        "In the following code cell, we will delete encryption policy for the Opensearch collection"
      ]
    },
    {
      "cell_type": "code",
      "execution_count": null,
      "metadata": {},
      "outputs": [],
      "source": [
        "# Delete the encryption policy\n",
        "try:\n",
        "    response = client.delete_security_policy(\n",
        "        name=encryption_policy_name,\n",
        "        type='encryption'\n",
        "    )\n",
        "    print(\"Encryption policy deleted\")\n",
        "except client.exceptions.ResourceNotFoundException:\n",
        "    print(\"Encryption policy not found\")\n",
        "except Exception as e:\n",
        "    print(f\"Error deleting encryption policy: {e}\")"
      ]
    },
    {
      "cell_type": "markdown",
      "metadata": {},
      "source": [
        "In the following code cell, we will delete data access policies for the Opensearch collection"
      ]
    },
    {
      "cell_type": "code",
      "execution_count": null,
      "metadata": {},
      "outputs": [],
      "source": [
        "# Delete the data access policy\n",
        "try:\n",
        "    response = client.delete_access_policy(\n",
        "        name=data_access_policy_name,\n",
        "        type='data'\n",
        "    )\n",
        "    print(\"Data access policy deleted\")\n",
        "except client.exceptions.ResourceNotFoundException:\n",
        "    print(\"Data access policy not found\")\n",
        "except Exception as e:\n",
        "    print(f\"Error deleting data access policy: {e}\")    \n"
      ]
    },
    {
      "cell_type": "code",
      "execution_count": null,
      "metadata": {},
      "outputs": [],
      "source": [
        "# Delete the data access policy used by notebook\n",
        "try:\n",
        "    response = client.delete_access_policy(\n",
        "        name=data_access_policy_name_nb,\n",
        "        type='data'\n",
        "    )\n",
        "    print(\"Data access policy deleted\")\n",
        "except client.exceptions.ResourceNotFoundException:\n",
        "    print(\"Data access policy not found\")\n",
        "except Exception as e:\n",
        "    print(f\"Error deleting data access policy: {e}\") "
      ]
    },
    {
      "cell_type": "markdown",
      "metadata": {},
      "source": [
        "In the following code cell, we will delete the AOSSAccessPolicy using IAM Client. TO delete the policy, first we will detach it from logged in user/role"
      ]
    },
    {
      "cell_type": "code",
      "execution_count": null,
      "metadata": {},
      "outputs": [],
      "source": [
        "# Delete AOSSAccessPolicy\n",
        "\n",
        "# Create an IAM client\n",
        "iam = boto3.client('iam')\n",
        "\n",
        "#First we will detach the aossaccesspolicy from the logged in user/role\n",
        "try:\n",
        "    # Try to get the user information\n",
        "    user = iam.get_user(UserName=identity_arn.split('/')[-1])\n",
        "    print(f\"The identity ARN '{identity_arn}' is for a user.\")\n",
        "\n",
        "    # Detach the policy to the user\n",
        "    iam.detach_user_policy(\n",
        "        UserName=user['User']['UserName'],\n",
        "        PolicyArn=aossAccessPolicyArn\n",
        "    )\n",
        "\n",
        "except iam.exceptions.NoSuchEntityException:\n",
        "    # If the identity ARN is not for a user, it must be for a role\n",
        "    print(f\"The identity ARN '{identity_arn}' is for a role.\")\n",
        "\n",
        "    # Detach the policy from the role\n",
        "    iam.detach_role_policy(\n",
        "        RoleName=identity_arn.split('/')[-1],\n",
        "        PolicyArn=aossAccessPolicyArn\n",
        "    )\n",
        "\n",
        "# Delete the aossaccesspolicy \n",
        "try:\n",
        "    response = iam.delete_policy(\n",
        "       PolicyArn=aossAccessPolicyArn\n",
        "    )\n",
        "    print(\"IAM policy deleted\")\n",
        "except client.exceptions.ResourceNotFoundException:\n",
        "    print(\"IAM policy not found\")\n",
        "except Exception as e:\n",
        "    print(f\"Error deleting IAM policy: {e}\")    "
      ]
    }
  ],
  "metadata": {
    "kernelspec": {
      "display_name": "Python 3",
      "language": "python",
      "name": "python3"
    },
    "language_info": {
      "codemirror_mode": {
        "name": "ipython",
        "version": 3
      },
      "file_extension": ".py",
      "mimetype": "text/x-python",
      "name": "python",
      "nbconvert_exporter": "python",
      "pygments_lexer": "ipython3",
      "version": "3.11.5"
    }
  },
  "nbformat": 4,
  "nbformat_minor": 2
}
